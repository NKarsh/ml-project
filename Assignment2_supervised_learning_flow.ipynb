{
 "cells": [
  {
   "cell_type": "markdown",
   "id": "ec202ada",
   "metadata": {},
   "source": [
    "# Assignment2 - Supervised Learning flow"
   ]
  },
  {
   "cell_type": "markdown",
   "id": "b06a2810",
   "metadata": {},
   "source": [
    "# Part 1 - Student details:\n",
    "* Please write the First Name and last 4 digits of the i.d. for each student. For example:\n",
    "<pre>Israel 9812</pre>"
   ]
  },
  {
   "cell_type": "code",
   "execution_count": 1,
   "id": "ca16486b",
   "metadata": {},
   "outputs": [],
   "source": [
    "# student 1: Nitzan Karsh 6195\n",
    "# student 2: Romy Somkin 1487"
   ]
  },
  {
   "cell_type": "markdown",
   "id": "df67c2ee-87c8-499c-a04f-1853c332f51d",
   "metadata": {},
   "source": [
    "## Part 2 - Initial Preparations \n",
    "You could add as many code cells as needed"
   ]
  },
  {
   "cell_type": "code",
   "execution_count": null,
   "metadata": {},
   "outputs": [],
   "source": [
    "%pip install pandas numpy scipy matplotlib seaborn scikit-learn"
   ]
  },
  {
   "cell_type": "code",
   "execution_count": 2,
   "id": "b29b3454-b568-4614-8017-f15b3c59fc55",
   "metadata": {},
   "outputs": [],
   "source": [
    "# All project imports\n",
    "import pandas as pd\n",
    "import numpy as np\n",
    "import scipy as sp\n",
    "import matplotlib.pyplot as plt\n",
    "import seaborn as sns\n",
    "from sklearn import datasets, model_selection, preprocessing, metrics"
   ]
  },
  {
   "cell_type": "code",
   "execution_count": 9,
   "id": "4b47fe56-d611-4b28-be92-673db4d56400",
   "metadata": {},
   "outputs": [
    {
     "name": "stdout",
     "output_type": "stream",
     "text": [
      "   alcohol  malic_acid   ash  alcalinity_of_ash  magnesium  total_phenols  \\\n",
      "0    13.78        2.76  2.30               22.0       90.0           1.35   \n",
      "1    14.02        1.68  2.21               16.0       96.0           2.65   \n",
      "2    13.17        5.19  2.32               22.0       93.0           1.74   \n",
      "3    11.03        1.51  2.20               21.5       85.0           2.46   \n",
      "4    13.40        3.91  2.48               23.0      102.0           1.80   \n",
      "\n",
      "   flavanoids  nonflavanoid_phenols  proanthocyanins  color_intensity   hue  \\\n",
      "0        0.68                  0.41             1.03             9.58  0.70   \n",
      "1        2.33                  0.26             1.98             4.70  1.04   \n",
      "2        0.63                  0.61             1.55             7.90  0.60   \n",
      "3        2.17                  0.52             2.01             1.90  1.71   \n",
      "4        0.75                  0.43             1.41             7.30  0.70   \n",
      "\n",
      "   od280/od315_of_diluted_wines  proline  target  \n",
      "0                          1.68    615.0       2  \n",
      "1                          3.59   1035.0       0  \n",
      "2                          1.48    725.0       2  \n",
      "3                          2.87    407.0       1  \n",
      "4                          1.56    750.0       2  \n",
      "   alcohol  malic_acid   ash  alcalinity_of_ash  magnesium  total_phenols  \\\n",
      "0    12.08        1.83  2.32               18.5       81.0           1.60   \n",
      "1    13.58        2.58  2.69               24.5      105.0           1.55   \n",
      "2    12.37        0.94  1.36               10.6       88.0           1.98   \n",
      "3    11.82        1.72  1.88               19.5       86.0           2.50   \n",
      "4    13.16        3.57  2.15               21.0      102.0           1.50   \n",
      "\n",
      "   flavanoids  nonflavanoid_phenols  proanthocyanins  color_intensity   hue  \\\n",
      "0        1.50                  0.52             1.64             2.40  1.08   \n",
      "1        0.84                  0.39             1.54             8.66  0.74   \n",
      "2        0.57                  0.28             0.42             1.95  1.05   \n",
      "3        1.64                  0.37             1.42             2.06  0.94   \n",
      "4        0.55                  0.43             1.30             4.00  0.60   \n",
      "\n",
      "   od280/od315_of_diluted_wines  proline  target  \n",
      "0                          2.27    480.0       1  \n",
      "1                          1.80    750.0       2  \n",
      "2                          1.82    520.0       1  \n",
      "3                          2.44    415.0       1  \n",
      "4                          1.68    830.0       2  \n"
     ]
    }
   ],
   "source": [
    "#Load data\n",
    "wine_train_df = pd.read_csv('wine_train.csv')\n",
    "wine_test_df = pd.read_csv('wine_test.csv')\n",
    "\n",
    "print(wine_test_df.head())\n",
    "print(wine_train_df.head())\n"
   ]
  },
  {
   "cell_type": "code",
   "execution_count": 37,
   "id": "53e27610-b640-4db0-80c9-789b5f5fae58",
   "metadata": {},
   "outputs": [
    {
     "name": "stdout",
     "output_type": "stream",
     "text": [
      "          alcohol  malic_acid         ash  alcalinity_of_ash   magnesium  \\\n",
      "count  142.000000  142.000000  142.000000         142.000000  142.000000   \n",
      "mean    12.997254    2.297746    2.361690          19.419718   99.943662   \n",
      "std      0.789931    1.093317    0.283231           3.354815   13.683751   \n",
      "min     11.410000    0.740000    1.360000          10.600000   78.000000   \n",
      "25%     12.370000    1.592500    2.222500          17.250000   88.000000   \n",
      "50%     13.050000    1.865000    2.360000          19.250000   98.000000   \n",
      "75%     13.637500    3.020000    2.557500          21.375000  108.000000   \n",
      "max     14.750000    5.650000    3.230000          30.000000  151.000000   \n",
      "\n",
      "       total_phenols  flavanoids  nonflavanoid_phenols  proanthocyanins  \\\n",
      "count     142.000000  142.000000            142.000000       142.000000   \n",
      "mean        2.315986    2.063592              0.346690         1.561901   \n",
      "std         0.639469    1.005302              0.117562         0.540979   \n",
      "min         0.980000    0.340000              0.130000         0.420000   \n",
      "25%         1.782500    1.257500              0.260000         1.250000   \n",
      "50%         2.380000    2.155000              0.320000         1.505000   \n",
      "75%         2.822500    2.887500              0.430000         1.870000   \n",
      "max         3.880000    5.080000              0.630000         3.580000   \n",
      "\n",
      "       color_intensity         hue  od280/od315_of_diluted_wines      proline  \\\n",
      "count       142.000000  142.000000                    142.000000   142.000000   \n",
      "mean          5.030211    0.958563                      2.638873   742.457746   \n",
      "std           2.239593    0.219631                      0.718083   317.250905   \n",
      "min           1.280000    0.480000                      1.290000   278.000000   \n",
      "25%           3.180000    0.800000                      1.922500   500.000000   \n",
      "50%           4.800000    0.960000                      2.815000   660.000000   \n",
      "75%           6.182500    1.120000                      3.197500   957.500000   \n",
      "max          11.750000    1.450000                      4.000000  1680.000000   \n",
      "\n",
      "           target  \n",
      "count  142.000000  \n",
      "mean     0.922535  \n",
      "std      0.772524  \n",
      "min      0.000000  \n",
      "25%      0.000000  \n",
      "50%      1.000000  \n",
      "75%      2.000000  \n",
      "max      2.000000  \n",
      "alcohol                          13.050\n",
      "malic_acid                        1.865\n",
      "ash                               2.360\n",
      "alcalinity_of_ash                19.250\n",
      "magnesium                        98.000\n",
      "total_phenols                     2.380\n",
      "flavanoids                        2.155\n",
      "nonflavanoid_phenols              0.320\n",
      "proanthocyanins                   1.505\n",
      "color_intensity                   4.800\n",
      "hue                               0.960\n",
      "od280/od315_of_diluted_wines      2.815\n",
      "proline                         660.000\n",
      "target                            1.000\n",
      "dtype: float64\n"
     ]
    },
    {
     "data": {
      "text/plain": [
       "<Axes: ylabel='Frequency'>"
      ]
     },
     "execution_count": 37,
     "metadata": {},
     "output_type": "execute_result"
    },
    {
     "data": {
      "image/png": "[encoded data removed]",
      "text/plain": [
       "<Figure size 640x480 with 1 Axes>"
      ]
     },
     "metadata": {},
     "output_type": "display_data"
    },
    {
     "data": {
      "image/png": "[encoded data removed]",
      "text/plain": [
       "<Figure size 640x480 with 1 Axes>"
      ]
     },
     "metadata": {},
     "output_type": "display_data"
    }
   ],
   "source": [
    "# Preview\n",
    "\n",
    "# 1\n",
    "print(wine_train_df.describe())\n",
    "\n",
    "# 2\n",
    "wine_train_df.plot.scatter(x='alcohol', y='magnesium')\n",
    "\n",
    "# 3\n",
    "print(wine_train_df.median())\n",
    "\n",
    "# 4\n",
    "wine_train_df[['color_intensity']].plot.hist()\n",
    "\n"
   ]
  },
  {
   "cell_type": "markdown",
   "id": "fb36672a",
   "metadata": {},
   "source": [
    "## Part 3 - Experiments\n",
    "You could add as many code cells as needed"
   ]
  },
  {
   "cell_type": "code",
   "execution_count": null,
   "id": "b7098585",
   "metadata": {},
   "outputs": [],
   "source": []
  },
  {
   "cell_type": "code",
   "execution_count": null,
   "id": "097afb02",
   "metadata": {},
   "outputs": [],
   "source": []
  },
  {
   "cell_type": "code",
   "execution_count": null,
   "id": "1fa9ec73",
   "metadata": {},
   "outputs": [],
   "source": []
  },
  {
   "cell_type": "code",
   "execution_count": null,
   "id": "937b653d",
   "metadata": {},
   "outputs": [],
   "source": []
  },
  {
   "cell_type": "markdown",
   "id": "67d97f11",
   "metadata": {},
   "source": [
    "## Part 4 - Training \n",
    "Use the best combination of feature engineering, model (algorithm and hyperparameters) from the experiment part (part 3)"
   ]
  },
  {
   "cell_type": "code",
   "execution_count": null,
   "id": "93713ead",
   "metadata": {},
   "outputs": [],
   "source": []
  },
  {
   "cell_type": "code",
   "execution_count": null,
   "id": "c0fc460d",
   "metadata": {},
   "outputs": [],
   "source": []
  },
  {
   "cell_type": "code",
   "execution_count": null,
   "id": "064ad0a0",
   "metadata": {},
   "outputs": [],
   "source": []
  },
  {
   "cell_type": "markdown",
   "id": "259ab902",
   "metadata": {},
   "source": [
    "## Part 5 - Apply on test and show model performance estimation"
   ]
  },
  {
   "cell_type": "code",
   "execution_count": null,
   "id": "d9971aa5",
   "metadata": {},
   "outputs": [],
   "source": []
  },
  {
   "cell_type": "code",
   "execution_count": null,
   "id": "00d8aa96",
   "metadata": {},
   "outputs": [],
   "source": []
  }
 ],
 "metadata": {
  "kernelspec": {
   "display_name": "Python 3 (ipykernel)",
   "language": "python",
   "name": "python3"
  },
  "language_info": {
   "codemirror_mode": {
    "name": "ipython",
    "version": 3
   },
   "file_extension": ".py",
   "mimetype": "text/x-python",
   "name": "python",
   "nbconvert_exporter": "python",
   "pygments_lexer": "ipython3",
   "version": "3.9.6"
  }
 },
 "nbformat": 4,
 "nbformat_minor": 5
}
